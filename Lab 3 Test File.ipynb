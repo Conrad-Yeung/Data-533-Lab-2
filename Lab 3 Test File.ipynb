{
 "cells": [
  {
   "cell_type": "code",
   "execution_count": 1,
   "metadata": {},
   "outputs": [],
   "source": [
    "import unittest\n",
    "\n",
    "import bank.accounts.account as acct\n",
    "import bank.accounts.chequing as ch\n",
    "import bank.accounts.saving as sv"
   ]
  },
  {
   "cell_type": "code",
   "execution_count": 31,
   "metadata": {},
   "outputs": [
    {
     "name": "stderr",
     "output_type": "stream",
     "text": [
      "test_deposit (__main__.Testchequing) ... ok\n",
      "test_withdraw (__main__.Testchequing) ... "
     ]
    },
    {
     "name": "stdout",
     "output_type": "stream",
     "text": [
      "Class created\n",
      "\tStart Test\n",
      "$1000.52 has been deposited to account 81710342.\n",
      "Current balance: $2500.52.\n",
      "\n",
      "$100.00 has been deposited to account 69060721.\n",
      "Current balance: $2100.00.\n",
      "\n",
      "Amount to deposit must be greater than 0.\n",
      "\n",
      "Amount to deposit must be greater than 0.\n",
      "\n",
      "\tTest Complete\n",
      "\n",
      "\tStart Test\n",
      "$569.00 has been withdrawn from account 56096286.\n",
      "Current balance: $931.00.\n",
      "\n",
      "$29.90 has been withdrawn from account 79151241.\n",
      "Current balance: $1970.10.\n",
      "\n",
      "Amount to withdraw must be greater than 0.\n",
      "\n",
      "Amount to withdraw must be greater than 0.\n",
      "\n",
      "Your current transaction limit is $1000.00, therefore you are unable to withdraw the requested amount of $1500.10.\n",
      "\n",
      "Your current transaction limit is $3000.00, therefore you are unable to withdraw the requested amount of $3001.00.\n",
      "\n",
      "\tTest Complete\n",
      "\n",
      "Class torn down\n"
     ]
    },
    {
     "name": "stderr",
     "output_type": "stream",
     "text": [
      "ok\n",
      "\n",
      "----------------------------------------------------------------------\n",
      "Ran 2 tests in 0.010s\n",
      "\n",
      "OK\n"
     ]
    },
    {
     "data": {
      "text/plain": [
       "<unittest.main.TestProgram at 0x29b5e9f1280>"
      ]
     },
     "execution_count": 31,
     "metadata": {},
     "output_type": "execute_result"
    }
   ],
   "source": [
    "class Testchequing (unittest.TestCase):\n",
    "    \n",
    "    @classmethod\n",
    "    def setUpClass(cls):\n",
    "        cls.cheq1 = ch.Chequing(\"Conrad Yeung\", 1500)\n",
    "        cls.cheq2 = ch.Chequing(\"Aamir Khan\", 2000,3000)\n",
    "        print(\"Class created\")\n",
    "        \n",
    "    @classmethod\n",
    "    def tearDownClass(cls):\n",
    "        print(\"Class torn down\")\n",
    "    \n",
    "    def setUp(self):\n",
    "        self.cheq1 = ch.Chequing(\"Conrad Yeung\", 1500)\n",
    "        self.cheq2 = ch.Chequing(\"Aamir Khan\", 2000,3000)\n",
    "        print(\"\\tStart Test\")\n",
    "        \n",
    "    def tearDown(self):\n",
    "        print(\"\\tTest Complete\\n\")\n",
    "    \n",
    "    def test_deposit(self):\n",
    "        #Should deposit sucesfully\n",
    "        self.cheq1.deposit(1000.52000001)\n",
    "        self.cheq2.deposit(100)\n",
    "        self.assertEqual(self.cheq1.bal,1500+1000.52000001)\n",
    "        self.assertEqual(self.cheq2.bal,2000+100)\n",
    "        #Should not deposit sucuessfully: Due to value < 0 (balance will be the balance above)\n",
    "        self.cheq1.deposit(-100)\n",
    "        self.cheq2.deposit(-0.001)\n",
    "        self.assertEqual(self.cheq1.bal,1500+1000.52000001)\n",
    "        self.assertEqual(self.cheq2.bal,2000+100)\n",
    "        \n",
    "    def test_withdraw(self):\n",
    "        #Should withdraw sucesfully\n",
    "        self.cheq1.withdraw(569)\n",
    "        self.cheq2.withdraw(29.90123)\n",
    "        self.assertEqual(self.cheq1.bal,1500-569)\n",
    "        self.assertEqual(self.cheq2.bal,2000-29.90123)\n",
    "        #Should not withdraw sucesfully: Due to value < 0 (balance will be the balance above)\n",
    "        self.cheq1.withdraw(-1)\n",
    "        self.cheq2.withdraw(-0.00000123123)\n",
    "        self.assertEqual(self.cheq1.bal,1500-569)\n",
    "        self.assertEqual(self.cheq2.bal,2000-29.90123)\n",
    "        #Should not withdraw sucesfully: Due to value > Transaction Limit (balance will be the balance above)\n",
    "        self.cheq1.withdraw(1500.1)\n",
    "        self.cheq2.withdraw(3001)\n",
    "        self.assertEqual(self.cheq1.bal,1500-569)\n",
    "        self.assertEqual(self.cheq2.bal,2000-29.90123)\n",
    "        \n",
    "#    def test_changelim(self):\n",
    "#        pass\n",
    "    \n",
    "#    def test_balance_history_attribute(self):\n",
    "#        pass\n",
    "\n",
    "unittest.main(argv=[\"\"],verbosity=2,exit=False)"
   ]
  },
  {
   "cell_type": "code",
   "execution_count": null,
   "metadata": {},
   "outputs": [],
   "source": []
  }
 ],
 "metadata": {
  "kernelspec": {
   "display_name": "Python 3",
   "language": "python",
   "name": "python3"
  },
  "language_info": {
   "codemirror_mode": {
    "name": "ipython",
    "version": 3
   },
   "file_extension": ".py",
   "mimetype": "text/x-python",
   "name": "python",
   "nbconvert_exporter": "python",
   "pygments_lexer": "ipython3",
   "version": "3.8.3"
  }
 },
 "nbformat": 4,
 "nbformat_minor": 4
}
