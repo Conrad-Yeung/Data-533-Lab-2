{
 "cells": [
  {
   "cell_type": "markdown",
   "metadata": {},
   "source": [
    "## Testing Card Base Class"
   ]
  },
  {
   "cell_type": "code",
   "execution_count": 2,
   "metadata": {},
   "outputs": [],
   "source": [
    "from Bank.cards import card"
   ]
  },
  {
   "cell_type": "code",
   "execution_count": 3,
   "metadata": {},
   "outputs": [],
   "source": [
    "c1=card.card(121,\"Aamir\",111,1234,1000)"
   ]
  },
  {
   "cell_type": "code",
   "execution_count": 4,
   "metadata": {},
   "outputs": [
    {
     "name": "stdout",
     "output_type": "stream",
     "text": [
      "121\n",
      "Aamir\n",
      "1000\n",
      "111\n",
      "defaultdict(<class 'dict'>, {'2020/12/04, 19:26:11': [1000, 'Initialized Account']})\n"
     ]
    }
   ],
   "source": [
    "print(c1.acct_no)\n",
    "print(c1.acct_title)\n",
    "print(c1.bal_curr)\n",
    "print(c1.card_no)\n",
    "print(c1.trans_hist)"
   ]
  },
  {
   "cell_type": "code",
   "execution_count": 5,
   "metadata": {},
   "outputs": [
    {
     "name": "stdout",
     "output_type": "stream",
     "text": [
      "$20.00 has been withdrawn from card no. 111 at Food Mart.\n",
      "Remaining balance: $980.00.\n",
      "\n"
     ]
    }
   ],
   "source": [
    "c1.makePayment(1234, 20, 'Food Mart')"
   ]
  },
  {
   "cell_type": "code",
   "execution_count": 7,
   "metadata": {},
   "outputs": [
    {
     "name": "stdout",
     "output_type": "stream",
     "text": [
      "Account Holder: Aamir\n",
      "Card Number: 111\n",
      "Current Balance: $980.00\n"
     ]
    }
   ],
   "source": [
    "c1.checkBalance(1234)"
   ]
  },
  {
   "cell_type": "code",
   "execution_count": 8,
   "metadata": {},
   "outputs": [
    {
     "name": "stdout",
     "output_type": "stream",
     "text": [
      "Account Holder: Aamir\n",
      "Current Balance: $980.00\n",
      "Your balance history for the past 30 transcations:\n",
      "\n",
      "                     Amount   Card Service Point\n",
      "2020/12/04, 19:26:11   1000  Initialized Account\n",
      "2020/12/04, 19:26:13    -20            Food Mart\n"
     ]
    }
   ],
   "source": [
    "c1.checkTransactions(1234)"
   ]
  },
  {
   "cell_type": "code",
   "execution_count": null,
   "metadata": {},
   "outputs": [],
   "source": []
  },
  {
   "cell_type": "code",
   "execution_count": null,
   "metadata": {},
   "outputs": [],
   "source": []
  },
  {
   "cell_type": "markdown",
   "metadata": {},
   "source": [
    "## Testing Credit Card Class"
   ]
  },
  {
   "cell_type": "code",
   "execution_count": 1,
   "metadata": {},
   "outputs": [],
   "source": [
    "from Bank.cards import credit"
   ]
  },
  {
   "cell_type": "code",
   "execution_count": 2,
   "metadata": {},
   "outputs": [],
   "source": [
    "c2 = credit.credit(121,\"Aamir\",111,1234,amount=500)"
   ]
  },
  {
   "cell_type": "code",
   "execution_count": 5,
   "metadata": {},
   "outputs": [
    {
     "name": "stdout",
     "output_type": "stream",
     "text": [
      "Your card credit limit is $0.00.\n",
      "\n"
     ]
    }
   ],
   "source": [
    "c2.checkCreditLimit(1234)"
   ]
  },
  {
   "cell_type": "code",
   "execution_count": 6,
   "metadata": {},
   "outputs": [
    {
     "name": "stdout",
     "output_type": "stream",
     "text": [
      "Account Holder: Aamir\n",
      "Card Number: 111\n",
      "Current Balance: $500.00\n",
      "Your transaction limit has increased from $0.00 to $1500.00.\n",
      "\n"
     ]
    }
   ],
   "source": [
    "c2.setCreditLimit(1234, 7777, 1500)"
   ]
  },
  {
   "cell_type": "code",
   "execution_count": 7,
   "metadata": {},
   "outputs": [
    {
     "name": "stdout",
     "output_type": "stream",
     "text": [
      "Your card credit limit is $1500.00.\n",
      "\n"
     ]
    }
   ],
   "source": [
    "c2.checkCreditLimit(1234)"
   ]
  },
  {
   "cell_type": "code",
   "execution_count": 8,
   "metadata": {},
   "outputs": [
    {
     "name": "stdout",
     "output_type": "stream",
     "text": [
      "Account Holder: Aamir\n",
      "Card Number: 111\n",
      "Current Balance: $500.00\n"
     ]
    }
   ],
   "source": [
    "c2.checkBalance(1234)"
   ]
  },
  {
   "cell_type": "code",
   "execution_count": 9,
   "metadata": {},
   "outputs": [
    {
     "name": "stdout",
     "output_type": "stream",
     "text": [
      "$2000.00 has been withdrawn from card no. 111 at Food Mart.\n",
      "Available balance: $-1500.00.\n",
      "\n"
     ]
    }
   ],
   "source": [
    "c2.makePayment(1234, 2000, 'Food Mart')"
   ]
  },
  {
   "cell_type": "code",
   "execution_count": 10,
   "metadata": {},
   "outputs": [
    {
     "name": "stdout",
     "output_type": "stream",
     "text": [
      "Your withdrawl amount 10.00 is over your credit limit of $1500.\n",
      "\n",
      "Available balance: $-1500.00.\n",
      "\n"
     ]
    }
   ],
   "source": [
    "c2.makePayment(1234, 10, 'Gas Station')"
   ]
  },
  {
   "cell_type": "code",
   "execution_count": 12,
   "metadata": {},
   "outputs": [
    {
     "name": "stdout",
     "output_type": "stream",
     "text": [
      "Account Holder: Aamir\n",
      "Current Balance: $-1500.00\n",
      "Your balance history for the past 30 transcations:\n",
      "\n",
      "                     Amount   Card Service Point\n",
      "2020/12/04, 22:05:05    500  Initialized Account\n",
      "2020/12/04, 22:05:32  -2000            Food Mart\n"
     ]
    }
   ],
   "source": [
    "c2.checkTransactions(1234)"
   ]
  },
  {
   "cell_type": "code",
   "execution_count": 5,
   "metadata": {},
   "outputs": [
    {
     "name": "stdout",
     "output_type": "stream",
     "text": [
      "<class 'type'>\n"
     ]
    }
   ],
   "source": [
    "b = B(20)"
   ]
  },
  {
   "cell_type": "code",
   "execution_count": 6,
   "metadata": {},
   "outputs": [
    {
     "name": "stdout",
     "output_type": "stream",
     "text": [
      "40\n"
     ]
    }
   ],
   "source": [
    "b.disp()\n",
    "print(b.A)"
   ]
  },
  {
   "cell_type": "code",
   "execution_count": null,
   "metadata": {},
   "outputs": [],
   "source": []
  },
  {
   "cell_type": "code",
   "execution_count": null,
   "metadata": {},
   "outputs": [],
   "source": []
  },
  {
   "cell_type": "code",
   "execution_count": null,
   "metadata": {},
   "outputs": [],
   "source": []
  },
  {
   "cell_type": "code",
   "execution_count": null,
   "metadata": {},
   "outputs": [],
   "source": []
  },
  {
   "cell_type": "code",
   "execution_count": null,
   "metadata": {},
   "outputs": [],
   "source": []
  },
  {
   "cell_type": "code",
   "execution_count": null,
   "metadata": {},
   "outputs": [],
   "source": []
  }
 ],
 "metadata": {
  "kernelspec": {
   "display_name": "Python 3",
   "language": "python",
   "name": "python3"
  },
  "language_info": {
   "codemirror_mode": {
    "name": "ipython",
    "version": 3
   },
   "file_extension": ".py",
   "mimetype": "text/x-python",
   "name": "python",
   "nbconvert_exporter": "python",
   "pygments_lexer": "ipython3",
   "version": "3.8.3"
  }
 },
 "nbformat": 4,
 "nbformat_minor": 4
}
