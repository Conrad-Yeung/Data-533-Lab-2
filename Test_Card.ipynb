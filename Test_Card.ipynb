{
 "cells": [
  {
   "cell_type": "code",
   "execution_count": 7,
   "metadata": {},
   "outputs": [],
   "source": [
    "from Bank.Cards import Card"
   ]
  },
  {
   "cell_type": "code",
   "execution_count": 8,
   "metadata": {},
   "outputs": [],
   "source": [
    "c1=Card.Card(121,\"Aamir\",111,1234,1000)"
   ]
  },
  {
   "cell_type": "code",
   "execution_count": 9,
   "metadata": {},
   "outputs": [
    {
     "name": "stdout",
     "output_type": "stream",
     "text": [
      "121\n",
      "Aamir\n",
      "1000\n",
      "111\n",
      "1234\n",
      "defaultdict(<class 'dict'>, {'2020/12/04, 16:46:42': [1000, 'Initialized Account']})\n"
     ]
    }
   ],
   "source": [
    "print(c1.acct_no)\n",
    "print(c1.acct_title)\n",
    "print(c1.bal_curr)\n",
    "print(c1.card_no)\n",
    "print(c1.card_pin)\n",
    "print(c1.trans_hist)"
   ]
  },
  {
   "cell_type": "code",
   "execution_count": 10,
   "metadata": {},
   "outputs": [
    {
     "name": "stdout",
     "output_type": "stream",
     "text": [
      "$20.00 has been withdrawn from card no. 111 at Food Mart.\n",
      "Remaining balance: $980.00.\n",
      "\n"
     ]
    }
   ],
   "source": [
    "c1.makePayment(111, 1234, 20, 'Food Mart')"
   ]
  },
  {
   "cell_type": "code",
   "execution_count": 11,
   "metadata": {},
   "outputs": [
    {
     "name": "stdout",
     "output_type": "stream",
     "text": [
      "Account Holder: Aamir\n",
      "Card Number: 111\n",
      "Current Balance: $980.00\n"
     ]
    }
   ],
   "source": [
    "c1.checkBalance(111, 1234)"
   ]
  },
  {
   "cell_type": "code",
   "execution_count": 12,
   "metadata": {},
   "outputs": [
    {
     "name": "stdout",
     "output_type": "stream",
     "text": [
      "Account Holder: Aamir.\n",
      "Current Balance: $980.00.\n",
      "Your balance history for the past 30 transcations:\n",
      "\n",
      "                     Amount   Card Service Point\n",
      "2020/12/04, 16:46:42   1000  Initialized Account\n",
      "2020/12/04, 16:46:45    -20            Food Mart\n"
     ]
    }
   ],
   "source": [
    "c1.checkTransactions(111, 1234)"
   ]
  },
  {
   "cell_type": "code",
   "execution_count": null,
   "metadata": {},
   "outputs": [],
   "source": []
  },
  {
   "cell_type": "code",
   "execution_count": null,
   "metadata": {},
   "outputs": [],
   "source": []
  },
  {
   "cell_type": "code",
   "execution_count": null,
   "metadata": {},
   "outputs": [],
   "source": []
  },
  {
   "cell_type": "code",
   "execution_count": null,
   "metadata": {},
   "outputs": [],
   "source": []
  },
  {
   "cell_type": "code",
   "execution_count": null,
   "metadata": {},
   "outputs": [],
   "source": []
  },
  {
   "cell_type": "code",
   "execution_count": null,
   "metadata": {},
   "outputs": [],
   "source": []
  }
 ],
 "metadata": {
  "kernelspec": {
   "display_name": "Python 3",
   "language": "python",
   "name": "python3"
  },
  "language_info": {
   "codemirror_mode": {
    "name": "ipython",
    "version": 3
   },
   "file_extension": ".py",
   "mimetype": "text/x-python",
   "name": "python",
   "nbconvert_exporter": "python",
   "pygments_lexer": "ipython3",
   "version": "3.8.3"
  }
 },
 "nbformat": 4,
 "nbformat_minor": 4
}
