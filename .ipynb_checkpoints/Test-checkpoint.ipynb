{
 "cells": [
  {
   "cell_type": "code",
   "execution_count": 3,
   "metadata": {},
   "outputs": [
    {
     "name": "stdout",
     "output_type": "stream",
     "text": [
      "$69.00 has been deposited to account 123\n",
      "Current balance: $69.00\n",
      "$70.00 has been deposited to account 123\n",
      "Current balance: $139.00\n",
      "$600.00 has been deposited to account 123\n",
      "Current balance: $739.00\n",
      "$10.00 has been withdrawn from account 123\n",
      "Current balance: $729.00\n"
     ]
    },
    {
     "data": {
      "text/plain": [
       "<bound method Account.summary of <Bank.Accounts.Account.Account object at 0x0000029CCAA76550>>"
      ]
     },
     "execution_count": 3,
     "metadata": {},
     "output_type": "execute_result"
    }
   ],
   "source": [
    "import Bank.Accounts.Account as AC\n",
    "\n",
    "dam = AC.Account(\"Conrad\",123)\n",
    "dam.name\n",
    "dam.ac\n",
    "dam.bal\n",
    "dam.deposit(69)\n",
    "dam.deposit (70)\n",
    "dam.deposit(600)\n",
    "dam.withdraw(10)\n",
    "dam.bal_hist\n",
    "dam.summary"
   ]
  }
 ],
 "metadata": {
  "kernelspec": {
   "display_name": "Python 3",
   "language": "python",
   "name": "python3"
  },
  "language_info": {
   "codemirror_mode": {
    "name": "ipython",
    "version": 3
   },
   "file_extension": ".py",
   "mimetype": "text/x-python",
   "name": "python",
   "nbconvert_exporter": "python",
   "pygments_lexer": "ipython3",
   "version": "3.8.3"
  }
 },
 "nbformat": 4,
 "nbformat_minor": 4
}
